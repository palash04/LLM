{
 "cells": [
  {
   "cell_type": "code",
   "execution_count": 1,
   "id": "56b4160e-dab4-4409-9f69-2dd48ebb425a",
   "metadata": {},
   "outputs": [],
   "source": [
    "import torch\n",
    "import torch.nn as nn"
   ]
  },
  {
   "cell_type": "markdown",
   "id": "6e9db353-3e80-4684-8cae-bb3914412a06",
   "metadata": {},
   "source": [
    "## Recap"
   ]
  },
  {
   "cell_type": "markdown",
   "id": "84fabb41-af31-4703-a183-bb5e1bc06d53",
   "metadata": {},
   "source": [
    "### Self Attention\n",
    "Refer chapter 01_attention.ipynb"
   ]
  },
  {
   "cell_type": "code",
   "execution_count": 32,
   "id": "c8799d0e-a264-4653-81eb-4b2eba04c3bb",
   "metadata": {},
   "outputs": [
    {
     "name": "stdout",
     "output_type": "stream",
     "text": [
      "torch.Size([2, 4096, 4608])\n"
     ]
    }
   ],
   "source": [
    "class SelfAttention(nn.Module):\n",
    "    def __init__(self, embed_size, d_model, qkv_bias=False):\n",
    "        super(SelfAttention, self).__init__()\n",
    "        self.Wq = nn.Linear(embed_size, d_model, bias=qkv_bias)\n",
    "        self.Wk = nn.Linear(embed_size, d_model, bias=qkv_bias)\n",
    "        self.Wv = nn.Linear(embed_size, d_model, bias=qkv_bias)\n",
    "        self.dropout = nn.Dropout(0.5)\n",
    "        \n",
    "    def forward(self, x):\n",
    "        # x: (B, T, embed_size)\n",
    "        queries = self.Wq(x)   # (B, T, d_model)\n",
    "        keys = self.Wk(x)      # (B, T, d_model)\n",
    "        values = self.Wv(x)    # (B, T, d_model)\n",
    "        \n",
    "        # Compute attention scores\n",
    "        attention_scores = queries @ keys.transpose(1, 2)   # (B, T, T)\n",
    "\n",
    "        # Compute attention weights\n",
    "        attention_weights = torch.softmax( attention_scores / values.shape[-1] ** 0.5, dim=-1)   # (B, T, T)\n",
    "        attention_weights = self.dropout(attention_weights)\n",
    "\n",
    "        # Compute context vector\n",
    "        Z = attention_weights @ values   # (B, T, d_model)\n",
    "\n",
    "        return Z\n",
    "\n",
    "batch_size = 2\n",
    "T = 4096  # Seq_len\n",
    "embed_size = 4608 \n",
    "d_model = 4608\n",
    "X = torch.rand(batch_size, T, embed_size)\n",
    "selfattention = SelfAttention(embed_size, d_model, qkv_bias=False)\n",
    "Z = selfattention(X)\n",
    "print(Z.shape)"
   ]
  },
  {
   "cell_type": "markdown",
   "id": "baf3c0ee-43aa-4561-bd8e-7708aaa47d9f",
   "metadata": {},
   "source": [
    "### Causal Attention\n",
    "Refer chapter 02_causal_attention.ipynb"
   ]
  },
  {
   "cell_type": "code",
   "execution_count": 40,
   "id": "ad6096d3-0ba6-4317-b122-e04b9e13359c",
   "metadata": {},
   "outputs": [
    {
     "name": "stdout",
     "output_type": "stream",
     "text": [
      "torch.Size([1, 4096, 4608])\n"
     ]
    }
   ],
   "source": [
    "class CausalAttention(nn.Module):\n",
    "    def __init__(self, embed_size, d_model, qkv_bias=False):\n",
    "        super(CausalAttention, self).__init__()\n",
    "        self.Wq = nn.Linear(embed_size, d_model, bias=qkv_bias)\n",
    "        self.Wk = nn.Linear(embed_size, d_model, bias=qkv_bias)\n",
    "        self.Wv = nn.Linear(embed_size, d_model, bias=qkv_bias)\n",
    "        self.dropout = nn.Dropout(0.5)\n",
    "        \n",
    "    def forward(self, x):\n",
    "        # x: (B, T, embed_size)\n",
    "        queries = self.Wq(x)   # (B, T, d_model)\n",
    "        keys = self.Wk(x)      # (B, T, d_model)\n",
    "        values = self.Wv(x)    # (B, T, d_model)\n",
    "        \n",
    "        # Compute attention scores\n",
    "        attention_scores = queries @ keys.transpose(1, 2)   # (B, T, T)\n",
    "\n",
    "        # Compute masked attention weights\n",
    "        mask = torch.triu(torch.ones(T, T), diagonal=1)\n",
    "        masked = attention_scores.masked_fill(mask.bool(), -torch.inf)\n",
    "        attention_weights = torch.softmax( masked / values.shape[-1] ** 0.5, dim=-1)   # (B, T, T)\n",
    "        attention_weights = self.dropout(attention_weights)\n",
    "\n",
    "        # Compute context vector\n",
    "        Z = attention_weights @ values   # (B, T, d_model)\n",
    "\n",
    "        return Z\n",
    "\n",
    "batch_size = 1\n",
    "T = 4096  # Seq_len\n",
    "embed_size = 4608\n",
    "d_model = 4608\n",
    "X = torch.rand(batch_size, T, embed_size)\n",
    "causalattention = CausalAttention(embed_size, d_model, qkv_bias=False)\n",
    "Z = causalattention(X)\n",
    "print(Z.shape)"
   ]
  },
  {
   "cell_type": "markdown",
   "id": "a60dfa4f-ae6d-49c3-9be4-24c80bbd1392",
   "metadata": {},
   "source": [
    "## Multi Head Attention"
   ]
  },
  {
   "cell_type": "markdown",
   "id": "cdfe5962-3882-4466-863a-79e452a92189",
   "metadata": {},
   "source": [
    "Multi-Head refers to dividing attention mechanism into multiple heads. Each head operating independently.\n",
    "In single causal attention referred as single head attention, there is only one set of attention weights processing input sequentially.\n"
   ]
  },
  {
   "cell_type": "code",
   "execution_count": 52,
   "id": "96c99fc9-3ba9-4636-8e54-0765a6766f97",
   "metadata": {},
   "outputs": [
    {
     "name": "stdout",
     "output_type": "stream",
     "text": [
      "torch.Size([1, 4096, 18432])\n"
     ]
    }
   ],
   "source": [
    "class MultiHeadAttentionWrapper(nn.Module):\n",
    "    def __init__(self, embed_size, d_model, num_heads, qkv_bias=False):\n",
    "        super(MultiHeadAttentionWrapper, self).__init__()\n",
    "        self.heads = nn.ModuleList([CausalAttention(embed_size, d_model, qkv_bias) for _ in range(num_heads)])\n",
    "\n",
    "    def forward(self, x):\n",
    "        # x: (B, T, embed_size)\n",
    "        out = [head(x) for head in self.heads]  # [ (B, T, d_model), (B, T, d_model), ... , (B, T, d_model)]\n",
    "        Z = torch.cat(out, dim=-1) # (B, T, num_heads * d_model)\n",
    "        return Z\n",
    "        \n",
    "batch_size = 1\n",
    "T = 4096  # Seq_len\n",
    "embed_size = 4608\n",
    "d_model = 4608\n",
    "num_heads = 4\n",
    "X = torch.rand(batch_size, T, embed_size)\n",
    "multiheadattention = MultiHeadAttentionWrapper(embed_size, d_model, num_heads ,qkv_bias=False)\n",
    "Z = multiheadattention(X)\n",
    "print(Z.shape)"
   ]
  },
  {
   "cell_type": "markdown",
   "id": "57b2dcce-b915-4144-bfe1-972610cc5fdb",
   "metadata": {},
   "source": [
    "Note: The above implementation, multiple heads are processed sequentially in the forward method.\n",
    "```\n",
    "out = [head(x) for head in self.heads]\n",
    "```\n",
    "We can overcome this sequential implementation by processing the heads in parallel.\n"
   ]
  },
  {
   "cell_type": "markdown",
   "id": "c7ca37a6-3d16-4201-a703-d7a90e3a916d",
   "metadata": {},
   "source": [
    "## Multi Head Attention With Weight Splits"
   ]
  },
  {
   "cell_type": "markdown",
   "id": "d089c093-bb20-4f0b-b66f-8f2119bfcf12",
   "metadata": {},
   "source": [
    "Splits the input into multiple heads by reshaping the query, key, value tensors."
   ]
  },
  {
   "cell_type": "code",
   "execution_count": 115,
   "id": "10c0cae2-7b1c-4c85-8350-4e3e5b87efad",
   "metadata": {},
   "outputs": [
    {
     "name": "stdout",
     "output_type": "stream",
     "text": [
      "torch.Size([1, 4096, 4608])\n"
     ]
    }
   ],
   "source": [
    "class MultiHeadAttention(nn.Module):\n",
    "    def __init__(self, T, embed_size, d_model, num_heads, qkv_bias=False):\n",
    "        super(MultiHeadAttention, self).__init__()\n",
    "        assert d_model % num_heads == 0, \"d_model must be divisible by number of heads\"\n",
    "\n",
    "        self.d_model = d_model\n",
    "        self.num_heads = num_heads\n",
    "        self.head_dim = d_model // num_heads\n",
    "        self.Wq = nn.Linear(embed_size, d_model, bias=qkv_bias)\n",
    "        self.Wk = nn.Linear(embed_size, d_model, bias=qkv_bias)\n",
    "        self.Wv = nn.Linear(embed_size, d_model, bias=qkv_bias)\n",
    "        self.out_proj = nn.Linear(d_model, d_model)\n",
    "        self.dropout = nn.Dropout(0.5)\n",
    "        self.register_buffer('mask', torch.triu(torch.ones(T, T), diagonal=1))\n",
    "\n",
    "    def forward(self, x):\n",
    "        # x: (B, T, embed_size)\n",
    "\n",
    "        B = x.shape[0]\n",
    "        T = x.shape[1]\n",
    "        \n",
    "        queries = self.Wq(x)  # (B, T, d_model)\n",
    "        keys = self.Wk(x)     # (B, T, d_model)\n",
    "        values = self.Wv(x)   # (B, T, d_model)\n",
    "\n",
    "        \n",
    "        # divide into num_heads\n",
    "        queries = queries.view(B, T, self.num_heads, self.head_dim) # (B, T, num_heads, head_dim)\n",
    "        keys = keys.view(B, T, self.num_heads, self.head_dim) # (B, T, num_heads, head_dim)\n",
    "        values = values.view(B, T, self.num_heads, self.head_dim) # (B, T, num_heads, head_dim)\n",
    "\n",
    "        queries = queries.transpose(1, 2)  # (B, num_heads, T, head_dim)\n",
    "        keys = keys.transpose(1, 2)  # (B, num_heads, T, head_dim)\n",
    "        values = values.transpose(1, 2)  # (B, num_heads, T, head_dim)\n",
    "\n",
    "        # Compute attention scores\n",
    "        attention_scores = queries @ keys.transpose(2, 3)  # (B, num_heads, T, T)\n",
    "        mask_bool = self.mask.bool()  # (T, T)\n",
    "        attention_scores.masked_fill(mask_bool, -torch.inf) # (B, num_heads, T, T)\n",
    "\n",
    "        # Compute attention weights\n",
    "        attention_weigths = torch.softmax( attention_scores / keys.shape[-1] ** 0.5, dim=-1)\n",
    "        attention_weigths = self.dropout(attention_weigths)  # (B, num_heads, T, T)\n",
    "\n",
    "        # Compute context vector\n",
    "        Z = attention_weigths @ values  # (B, num_heads, T, head_dim)\n",
    "        Z = Z.transpose(1, 2)   # (B, T, num_heads, head_dim)\n",
    "        Z = Z.contiguous()  # (B, T, num_heads, head_dim)\n",
    "        Z = Z.view(B, T, d_model)   # (B, T, d_model)\n",
    "\n",
    "        Z = self.out_proj(Z)\n",
    "        \n",
    "        return Z\n",
    "\n",
    "batch_size = 1\n",
    "T = 4096  # Seq_len\n",
    "embed_size = 4608\n",
    "d_model = 4608\n",
    "num_heads = 48\n",
    "X = torch.rand(batch_size, T, embed_size)\n",
    "multiheadattention = MultiHeadAttention(T, embed_size, d_model, num_heads ,qkv_bias=False)\n",
    "Z = multiheadattention(X)\n",
    "print(Z.shape)\n"
   ]
  },
  {
   "cell_type": "markdown",
   "id": "ecb909e1-a099-4487-9e3c-dedd2cbb38e2",
   "metadata": {},
   "source": [
    "### Count number of parameters"
   ]
  },
  {
   "cell_type": "code",
   "execution_count": 100,
   "id": "bff52145-e2a2-444f-8bad-b3f2c3e03c6a",
   "metadata": {},
   "outputs": [
    {
     "name": "stdout",
     "output_type": "stream",
     "text": [
      "0.084939264 B\n"
     ]
    }
   ],
   "source": [
    "params = 0\n",
    "for p in multiheadattention.named_parameters():\n",
    "    if p[1].requires_grad:\n",
    "        params += p[1].numel()\n",
    "print(params / 1e9, 'B')"
   ]
  },
  {
   "cell_type": "code",
   "execution_count": null,
   "id": "bafd491b-21ab-49e6-bd75-bc53aa16380a",
   "metadata": {},
   "outputs": [],
   "source": []
  },
  {
   "cell_type": "markdown",
   "id": "e7590057-cbc0-4bb8-a5a3-03695a7f4f02",
   "metadata": {},
   "source": [
    "## Just rewriting again"
   ]
  },
  {
   "cell_type": "code",
   "execution_count": 118,
   "id": "1cb8a1e8-3c77-42f3-8841-44df693bf29d",
   "metadata": {},
   "outputs": [
    {
     "name": "stdout",
     "output_type": "stream",
     "text": [
      "torch.Size([1, 4096, 4608])\n"
     ]
    }
   ],
   "source": [
    "class MultiHeadAttention(nn.Module):\n",
    "    def __init__(self, T, embed_size, d_model, num_heads, qkv_bias=False):\n",
    "        super(MultiHeadAttention, self).__init__()\n",
    "        assert d_model % num_heads == 0, \"d_model should be divisible by num_heads\"\n",
    "        self.T = T\n",
    "        self.num_heads = num_heads\n",
    "        self.head_dim = d_model // num_heads\n",
    "        self.Wq = nn.Linear(embed_size, d_model, bias=qkv_bias)\n",
    "        self.Wk = nn.Linear(embed_size, d_model, bias=qkv_bias)\n",
    "        self.Wv = nn.Linear(embed_size, d_model, bias=qkv_bias)\n",
    "\n",
    "        self.dropout = nn.Dropout(0.5)\n",
    "        self.out_proj = nn.Linear(d_model, d_model)\n",
    "        self.register_buffer('mask', torch.triu(torch.ones(T, T), diagonal=1))\n",
    "\n",
    "    def forward(self, x):\n",
    "        # x: (B, T, embed_size)\n",
    "\n",
    "        B = x.shape[0]\n",
    "        \n",
    "        queries = self.Wq(x)   # (B, T, d_model)\n",
    "        keys = self.Wk(x)      # (B, T, d_model) \n",
    "        values = self.Wv(x)    # (B, T, d_model)\n",
    "\n",
    "        queries = queries.view(B, self.T, self.num_heads, self.head_dim)  # (B, T, num_heads, head_dim)\n",
    "        keys = keys.view(B, self.T, self.num_heads, self.head_dim)  # (B, T, num_heads, head_dim)\n",
    "        values = values.view(B, self.T, self.num_heads, self.head_dim)  # (B, T, num_heads, head_dim)\n",
    "\n",
    "        queries = queries.transpose(1, 2)  # (B, num_heads, T, head_dim)\n",
    "        keys = keys.transpose(1, 2)  # (B, num_heads, T, head_dim)\n",
    "        values = values.transpose(1, 2)  # (B, num_heads, T, head_dim)\n",
    "        \n",
    "        # Compute attention scores\n",
    "        attention_scores = queries @ keys.transpose(2, 3)   # (B, num_heads, T, T)\n",
    "        attention_scores_masked = attention_scores.masked_fill(self.mask.bool(), -torch.inf)  # (B, num_heads, T, T)\n",
    "\n",
    "        # Compute attention weights\n",
    "        attention_weights = torch.softmax( attention_scores_masked / keys.shape[-1] ** 0.5, dim=-1 )  # (B, num_heads, T, T)\n",
    "\n",
    "        # Compute context vector\n",
    "        Z = attention_weights @ values  # (B, num_heads, T, head_dim)\n",
    "\n",
    "        # reshape\n",
    "        Z = Z.contiguous().view(B, T, d_model)\n",
    "        Z = self.out_proj(Z)\n",
    "        \n",
    "        return Z\n",
    "\n",
    "\n",
    "B = 1\n",
    "T = 4096\n",
    "embed_size = 4608\n",
    "d_model = 4608\n",
    "num_heads = 48\n",
    "model = MultiHeadAttention(T, embed_size, d_model, num_heads)\n",
    "\n",
    "X = torch.rand(B, T, embed_size)\n",
    "Z = model(X)            \n",
    "print(Z.shape)\n"
   ]
  },
  {
   "cell_type": "code",
   "execution_count": null,
   "id": "40f59f75-8c1b-464e-8cb0-bf138318471e",
   "metadata": {},
   "outputs": [],
   "source": []
  }
 ],
 "metadata": {
  "kernelspec": {
   "display_name": "Python 3 (ipykernel)",
   "language": "python",
   "name": "python3"
  },
  "language_info": {
   "codemirror_mode": {
    "name": "ipython",
    "version": 3
   },
   "file_extension": ".py",
   "mimetype": "text/x-python",
   "name": "python",
   "nbconvert_exporter": "python",
   "pygments_lexer": "ipython3",
   "version": "3.10.13"
  }
 },
 "nbformat": 4,
 "nbformat_minor": 5
}
